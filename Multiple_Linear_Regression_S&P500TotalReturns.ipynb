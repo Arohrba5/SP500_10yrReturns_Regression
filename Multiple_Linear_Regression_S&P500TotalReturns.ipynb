{
  "nbformat": 4,
  "nbformat_minor": 0,
  "metadata": {
    "colab": {
      "provenance": []
    },
    "kernelspec": {
      "name": "python3",
      "display_name": "Python 3"
    }
  },
  "cells": [
    {
      "cell_type": "markdown",
      "metadata": {
        "id": "CazISR8X_HUG"
      },
      "source": [
        "# Multiple Linear Regression"
      ]
    },
    {
      "cell_type": "markdown",
      "metadata": {
        "id": "pOyqYHTk_Q57"
      },
      "source": [
        "## Importing the libraries"
      ]
    },
    {
      "cell_type": "code",
      "metadata": {
        "id": "T_YHJjnD_Tja"
      },
      "source": [
        "import numpy as np\n",
        "import matplotlib.pyplot as plt\n",
        "import pandas as pd"
      ],
      "execution_count": 1,
      "outputs": []
    },
    {
      "cell_type": "markdown",
      "metadata": {
        "id": "vgC61-ah_WIz"
      },
      "source": [
        "## Importing the dataset"
      ]
    },
    {
      "cell_type": "code",
      "metadata": {
        "id": "UrxyEKGn_ez7"
      },
      "source": [
        "dataset = pd.read_csv('Historical_Market_Data_Clean.csv')\n",
        "X = dataset.iloc[:, 1:-1].values\n",
        "y = dataset.iloc[:, -1].values"
      ],
      "execution_count": 2,
      "outputs": []
    },
    {
      "cell_type": "code",
      "metadata": {
        "id": "GOB3QhV9B5kD",
        "colab": {
          "base_uri": "https://localhost:8080/"
        },
        "outputId": "6348f628-aed7-485a-d6bd-1192b71d9c1a"
      },
      "source": [
        "print(X)"
      ],
      "execution_count": 3,
      "outputs": [
        {
          "output_type": "stream",
          "name": "stdout",
          "text": [
            "[[1.703e+01 2.000e-02]\n",
            " [1.487e+01 2.000e-02]\n",
            " [1.630e+01 3.000e-02]\n",
            " [2.070e+01 4.000e-02]\n",
            " [7.091e+01 3.000e-02]\n",
            " [2.146e+01 4.000e-02]\n",
            " [1.736e+01 5.000e-02]\n",
            " [1.807e+01 4.000e-02]\n",
            " [1.999e+01 4.000e-02]\n",
            " [2.273e+01 4.000e-02]\n",
            " [3.143e+01 4.000e-02]\n",
            " [4.617e+01 5.000e-02]\n",
            " [2.755e+01 5.000e-02]\n",
            " [2.904e+01 7.000e-02]\n",
            " [3.292e+01 5.000e-02]\n",
            " [2.429e+01 6.000e-02]\n",
            " [1.953e+01 7.000e-02]\n",
            " [1.808e+01 6.000e-02]\n",
            " [1.489e+01 8.000e-02]\n",
            " [2.134e+01 6.000e-02]\n",
            " [2.250e+01 7.000e-02]\n",
            " [2.593e+01 7.000e-02]\n",
            " [1.535e+01 8.000e-02]\n",
            " [1.513e+01 8.000e-02]\n",
            " [1.182e+01 9.000e-02]\n",
            " [1.402e+01 9.000e-02]\n",
            " [1.801e+01 7.000e-02]\n",
            " [1.428e+01 9.000e-02]\n",
            " [1.036e+01 1.100e-01]\n",
            " [1.152e+01 1.200e-01]\n",
            " [1.148e+01 1.000e-01]\n",
            " [7.730e+00 1.500e-01]\n",
            " [9.020e+00 1.300e-01]\n",
            " [7.390e+00 1.100e-01]\n",
            " [7.880e+00 9.000e-02]\n",
            " [8.280e+00 8.000e-02]\n",
            " [1.041e+01 7.000e-02]\n",
            " [1.182e+01 8.000e-02]\n",
            " [8.300e+00 8.000e-02]\n",
            " [1.168e+01 7.000e-02]\n",
            " [1.809e+01 6.000e-02]\n",
            " [1.801e+01 6.000e-02]\n",
            " [1.812e+01 6.000e-02]\n",
            " [1.576e+01 8.000e-02]\n",
            " [1.765e+01 6.000e-02]\n",
            " [1.771e+01 6.000e-02]\n",
            " [1.531e+01 5.000e-02]\n",
            " [1.781e+01 5.000e-02]\n",
            " [1.875e+01 4.000e-02]\n",
            " [1.877e+01 4.000e-02]\n",
            " [1.766e+01 4.000e-02]\n",
            " [2.125e+01 4.000e-02]\n",
            " [1.860e+01 4.000e-02]\n",
            " [1.712e+01 5.000e-02]\n",
            " [1.877e+01 4.000e-02]\n",
            " [1.249e+01 3.000e-02]\n",
            " [1.334e+01 3.000e-02]\n",
            " [1.212e+01 3.000e-02]\n",
            " [1.256e+01 3.000e-02]\n",
            " [1.009e+01 2.000e-02]\n",
            " [1.086e+01 3.000e-02]\n",
            " [9.970e+00 3.000e-02]\n",
            " [7.480e+00 3.000e-02]\n",
            " [7.220e+00 2.000e-02]\n",
            " [6.620e+00 2.000e-02]\n",
            " [9.020e+00 2.000e-02]\n",
            " [1.346e+01 2.000e-02]\n",
            " [1.917e+01 2.000e-02]\n",
            " [1.435e+01 2.000e-02]\n",
            " [1.265e+01 2.000e-02]\n",
            " [9.670e+00 2.000e-02]\n",
            " [7.970e+00 2.000e-02]\n",
            " [1.002e+01 2.000e-02]\n",
            " [1.323e+01 2.000e-02]\n",
            " [1.884e+01 2.000e-02]\n",
            " [1.050e+01 3.000e-02]\n",
            " [1.675e+01 3.000e-02]\n",
            " [1.787e+01 3.000e-02]\n",
            " [1.625e+01 3.000e-02]\n",
            " [2.373e+01 3.000e-02]\n",
            " [1.719e+01 3.000e-02]\n",
            " [1.399e+01 4.000e-02]\n",
            " [1.700e+01 3.000e-02]\n",
            " [1.394e+01 3.000e-02]\n",
            " [1.777e+01 4.000e-02]\n",
            " [1.547e+01 3.000e-02]\n",
            " [1.090e+01 3.000e-02]\n",
            " [1.013e+01 4.000e-02]]\n"
          ]
        }
      ]
    },
    {
      "cell_type": "code",
      "source": [
        "print(y)"
      ],
      "metadata": {
        "colab": {
          "base_uri": "https://localhost:8080/"
        },
        "id": "891j4YEbr9Cp",
        "outputId": "9fdd9cd4-ebfc-47f0-b4fe-8c1bacb34457"
      },
      "execution_count": 4,
      "outputs": [
        {
          "output_type": "stream",
          "name": "stdout",
          "text": [
            "[3.27 4.63 3.67 3.57 3.43 2.26 1.96 2.02 2.09 2.04 1.99 1.33 1.15 0.91\n",
            " 0.87 1.78 2.24 2.38 3.13 2.86 2.44 3.38 5.   5.33 5.8  5.26 4.15 4.\n",
            " 3.83 4.02 4.48 5.06 3.69 5.04 4.53 4.14 3.65 3.81 3.97 2.75 1.91 1.87\n",
            " 2.25 1.77 1.36 1.42 1.9  1.38 1.13 1.79 2.58 1.98 2.2  2.12 2.59 3.35\n",
            " 2.41 2.86 3.34 4.38 3.53 4.58 4.47 5.87 6.22 4.58 5.43 4.68 4.86 3.81\n",
            " 4.84 4.92 3.51 2.4  2.02 2.51 1.54 2.24 2.43 2.   2.44 1.86 1.2  0.99\n",
            " 0.91 1.   2.12 1.77]\n"
          ]
        }
      ]
    },
    {
      "cell_type": "code",
      "source": [
        "# Check correlations of data\n",
        "df = pd.DataFrame(X,y)\n",
        "correlation_matrix = df.corr()\n",
        "print (correlation_matrix)"
      ],
      "metadata": {
        "colab": {
          "base_uri": "https://localhost:8080/"
        },
        "id": "UfQaZp5QDOmY",
        "outputId": "6db08a86-811d-49cc-e263-74ea13a5e38d"
      },
      "execution_count": 14,
      "outputs": [
        {
          "output_type": "stream",
          "name": "stdout",
          "text": [
            "          0         1\n",
            "0  1.000000 -0.122611\n",
            "1 -0.122611  1.000000\n"
          ]
        }
      ]
    },
    {
      "cell_type": "markdown",
      "metadata": {
        "id": "WemVnqgeA70k"
      },
      "source": [
        "## Splitting the dataset into the Training set and Test set"
      ]
    },
    {
      "cell_type": "code",
      "metadata": {
        "id": "Kb_v_ae-A-20"
      },
      "source": [
        "from sklearn.model_selection import train_test_split\n",
        "X_train, X_test, y_train, y_test = train_test_split(X, y, test_size = 0.2, random_state = 0)"
      ],
      "execution_count": 5,
      "outputs": []
    },
    {
      "cell_type": "markdown",
      "metadata": {
        "id": "k-McZVsQBINc"
      },
      "source": [
        "## Training the Multiple Linear Regression model on the Training set"
      ]
    },
    {
      "cell_type": "code",
      "metadata": {
        "id": "ywPjx0L1BMiD",
        "colab": {
          "base_uri": "https://localhost:8080/",
          "height": 75
        },
        "outputId": "8f96b367-0136-4ca5-ff62-adc8e270bc38"
      },
      "source": [
        "from sklearn.linear_model import LinearRegression\n",
        "regressor = LinearRegression()\n",
        "regressor.fit(X_train, y_train)"
      ],
      "execution_count": 6,
      "outputs": [
        {
          "output_type": "execute_result",
          "data": {
            "text/plain": [
              "LinearRegression()"
            ],
            "text/html": [
              "<style>#sk-container-id-1 {color: black;background-color: white;}#sk-container-id-1 pre{padding: 0;}#sk-container-id-1 div.sk-toggleable {background-color: white;}#sk-container-id-1 label.sk-toggleable__label {cursor: pointer;display: block;width: 100%;margin-bottom: 0;padding: 0.3em;box-sizing: border-box;text-align: center;}#sk-container-id-1 label.sk-toggleable__label-arrow:before {content: \"▸\";float: left;margin-right: 0.25em;color: #696969;}#sk-container-id-1 label.sk-toggleable__label-arrow:hover:before {color: black;}#sk-container-id-1 div.sk-estimator:hover label.sk-toggleable__label-arrow:before {color: black;}#sk-container-id-1 div.sk-toggleable__content {max-height: 0;max-width: 0;overflow: hidden;text-align: left;background-color: #f0f8ff;}#sk-container-id-1 div.sk-toggleable__content pre {margin: 0.2em;color: black;border-radius: 0.25em;background-color: #f0f8ff;}#sk-container-id-1 input.sk-toggleable__control:checked~div.sk-toggleable__content {max-height: 200px;max-width: 100%;overflow: auto;}#sk-container-id-1 input.sk-toggleable__control:checked~label.sk-toggleable__label-arrow:before {content: \"▾\";}#sk-container-id-1 div.sk-estimator input.sk-toggleable__control:checked~label.sk-toggleable__label {background-color: #d4ebff;}#sk-container-id-1 div.sk-label input.sk-toggleable__control:checked~label.sk-toggleable__label {background-color: #d4ebff;}#sk-container-id-1 input.sk-hidden--visually {border: 0;clip: rect(1px 1px 1px 1px);clip: rect(1px, 1px, 1px, 1px);height: 1px;margin: -1px;overflow: hidden;padding: 0;position: absolute;width: 1px;}#sk-container-id-1 div.sk-estimator {font-family: monospace;background-color: #f0f8ff;border: 1px dotted black;border-radius: 0.25em;box-sizing: border-box;margin-bottom: 0.5em;}#sk-container-id-1 div.sk-estimator:hover {background-color: #d4ebff;}#sk-container-id-1 div.sk-parallel-item::after {content: \"\";width: 100%;border-bottom: 1px solid gray;flex-grow: 1;}#sk-container-id-1 div.sk-label:hover label.sk-toggleable__label {background-color: #d4ebff;}#sk-container-id-1 div.sk-serial::before {content: \"\";position: absolute;border-left: 1px solid gray;box-sizing: border-box;top: 0;bottom: 0;left: 50%;z-index: 0;}#sk-container-id-1 div.sk-serial {display: flex;flex-direction: column;align-items: center;background-color: white;padding-right: 0.2em;padding-left: 0.2em;position: relative;}#sk-container-id-1 div.sk-item {position: relative;z-index: 1;}#sk-container-id-1 div.sk-parallel {display: flex;align-items: stretch;justify-content: center;background-color: white;position: relative;}#sk-container-id-1 div.sk-item::before, #sk-container-id-1 div.sk-parallel-item::before {content: \"\";position: absolute;border-left: 1px solid gray;box-sizing: border-box;top: 0;bottom: 0;left: 50%;z-index: -1;}#sk-container-id-1 div.sk-parallel-item {display: flex;flex-direction: column;z-index: 1;position: relative;background-color: white;}#sk-container-id-1 div.sk-parallel-item:first-child::after {align-self: flex-end;width: 50%;}#sk-container-id-1 div.sk-parallel-item:last-child::after {align-self: flex-start;width: 50%;}#sk-container-id-1 div.sk-parallel-item:only-child::after {width: 0;}#sk-container-id-1 div.sk-dashed-wrapped {border: 1px dashed gray;margin: 0 0.4em 0.5em 0.4em;box-sizing: border-box;padding-bottom: 0.4em;background-color: white;}#sk-container-id-1 div.sk-label label {font-family: monospace;font-weight: bold;display: inline-block;line-height: 1.2em;}#sk-container-id-1 div.sk-label-container {text-align: center;}#sk-container-id-1 div.sk-container {/* jupyter's `normalize.less` sets `[hidden] { display: none; }` but bootstrap.min.css set `[hidden] { display: none !important; }` so we also need the `!important` here to be able to override the default hidden behavior on the sphinx rendered scikit-learn.org. See: https://github.com/scikit-learn/scikit-learn/issues/21755 */display: inline-block !important;position: relative;}#sk-container-id-1 div.sk-text-repr-fallback {display: none;}</style><div id=\"sk-container-id-1\" class=\"sk-top-container\"><div class=\"sk-text-repr-fallback\"><pre>LinearRegression()</pre><b>In a Jupyter environment, please rerun this cell to show the HTML representation or trust the notebook. <br />On GitHub, the HTML representation is unable to render, please try loading this page with nbviewer.org.</b></div><div class=\"sk-container\" hidden><div class=\"sk-item\"><div class=\"sk-estimator sk-toggleable\"><input class=\"sk-toggleable__control sk-hidden--visually\" id=\"sk-estimator-id-1\" type=\"checkbox\" checked><label for=\"sk-estimator-id-1\" class=\"sk-toggleable__label sk-toggleable__label-arrow\">LinearRegression</label><div class=\"sk-toggleable__content\"><pre>LinearRegression()</pre></div></div></div></div></div>"
            ]
          },
          "metadata": {},
          "execution_count": 6
        }
      ]
    },
    {
      "cell_type": "code",
      "source": [
        "print('Coefficients:', regressor.coef_)\n",
        "print('Intercept:', regressor.intercept_)"
      ],
      "metadata": {
        "colab": {
          "base_uri": "https://localhost:8080/"
        },
        "id": "JXzpGXCXv9cN",
        "outputId": "b3f1d771-00c6-42da-bbdc-84fe54ba81f4"
      },
      "execution_count": 7,
      "outputs": [
        {
          "output_type": "stream",
          "name": "stdout",
          "text": [
            "Coefficients: [-0.0522432   7.12755991]\n",
            "Intercept: 3.5294387259664037\n"
          ]
        }
      ]
    },
    {
      "cell_type": "markdown",
      "metadata": {
        "id": "xNkXL1YQBiBT"
      },
      "source": [
        "\n",
        "## Predicting the Test Set Results"
      ]
    },
    {
      "cell_type": "code",
      "metadata": {
        "id": "TQKmwvtdBkyb",
        "colab": {
          "base_uri": "https://localhost:8080/"
        },
        "outputId": "30101c74-253d-45b0-8eb2-b022e785053e"
      },
      "source": [
        "y_pred = regressor.predict(X_test)\n",
        "np.set_printoptions(precision=2)\n",
        "print(np.concatenate((y_pred.reshape(len(y_pred),1), y_test.reshape(len(y_test),1)),1))"
      ],
      "execution_count": 8,
      "outputs": [
        {
          "output_type": "stream",
          "name": "stdout",
          "text": [
            "[[2.89 3.67]\n",
            " [2.51 0.91]\n",
            " [2.99 2.12]\n",
            " [3.02 1.87]\n",
            " [2.97 5.43]\n",
            " [3.64 4.48]\n",
            " [3.03 1.42]\n",
            " [3.28 1.77]\n",
            " [2.81 2.24]\n",
            " [3.29 1.77]\n",
            " [2.87 2.02]\n",
            " [3.09 4.15]\n",
            " [3.93 5.04]\n",
            " [3.29 5.87]\n",
            " [2.77 2.09]\n",
            " [3.01 2.24]\n",
            " [3.55 5.8 ]\n",
            " [3.05 2.41]]\n"
          ]
        }
      ]
    },
    {
      "cell_type": "markdown",
      "source": [
        "## Evaluating the Model Performance"
      ],
      "metadata": {
        "id": "4ghtqQNAt5N7"
      }
    },
    {
      "cell_type": "code",
      "source": [
        "from sklearn.metrics import r2_score, mean_absolute_error, mean_squared_error\n",
        "\n",
        "# Calculate the performance metrics\n",
        "r2 = r2_score(y_test, y_pred)\n",
        "mae = mean_absolute_error(y_test, y_pred)\n",
        "mse = mean_squared_error(y_test, y_pred)\n",
        "rmse = np.sqrt(mse)\n",
        "\n",
        "print(f'R-squared: {r2:.3f}')\n",
        "print(f'Mean Absolute Error: {mae:.3f}')\n",
        "print(f'Mean Squared Error: {mse:.3f}')\n",
        "print(f'Root Mean Squared Error: {rmse:.3f}')"
      ],
      "metadata": {
        "colab": {
          "base_uri": "https://localhost:8080/"
        },
        "id": "VzdPLxgRvUOU",
        "outputId": "796b1948-f68f-4cf3-b61a-f640e0616314"
      },
      "execution_count": 18,
      "outputs": [
        {
          "output_type": "stream",
          "name": "stdout",
          "text": [
            "R-squared: 0.211\n",
            "Mean Absolute Error: 1.268\n",
            "Mean Squared Error: 1.984\n",
            "Root Mean Squared Error: 1.409\n"
          ]
        }
      ]
    },
    {
      "cell_type": "markdown",
      "source": [
        "## Stats Table for Training Data"
      ],
      "metadata": {
        "id": "958IZd8jxQ7I"
      }
    },
    {
      "cell_type": "code",
      "source": [
        "import statsmodels.api as sm\n",
        "\n",
        "# After training the multiple linear regression model...\n",
        "\n",
        "# Add a constant to the input features\n",
        "X_train = sm.add_constant(X_train)\n",
        "\n",
        "# Fit a regression model using OLS (ordinary least squares)\n",
        "regressor = sm.OLS(y_train, X_train).fit()\n",
        "\n",
        "# Print the p-value table\n",
        "print(regressor.summary())"
      ],
      "metadata": {
        "colab": {
          "base_uri": "https://localhost:8080/"
        },
        "id": "PTkGvEhBxUTJ",
        "outputId": "1ae7cf82-983b-44b5-d6c8-989f70bf27fc"
      },
      "execution_count": 11,
      "outputs": [
        {
          "output_type": "stream",
          "name": "stdout",
          "text": [
            "                            OLS Regression Results                            \n",
            "==============================================================================\n",
            "Dep. Variable:                      y   R-squared:                       0.176\n",
            "Model:                            OLS   Adj. R-squared:                  0.151\n",
            "Method:                 Least Squares   F-statistic:                     7.147\n",
            "Date:                Sat, 22 Apr 2023   Prob (F-statistic):            0.00154\n",
            "Time:                        17:36:55   Log-Likelihood:                -111.48\n",
            "No. Observations:                  70   AIC:                             229.0\n",
            "Df Residuals:                      67   BIC:                             235.7\n",
            "Df Model:                           2                                         \n",
            "Covariance Type:            nonrobust                                         \n",
            "==============================================================================\n",
            "                 coef    std err          t      P>|t|      [0.025      0.975]\n",
            "------------------------------------------------------------------------------\n",
            "const          3.5294      0.415      8.507      0.000       2.701       4.358\n",
            "x1            -0.0522      0.016     -3.312      0.001      -0.084      -0.021\n",
            "x2             7.1276      5.158      1.382      0.172      -3.167      17.422\n",
            "==============================================================================\n",
            "Omnibus:                        3.675   Durbin-Watson:                   1.982\n",
            "Prob(Omnibus):                  0.159   Jarque-Bera (JB):                3.456\n",
            "Skew:                           0.541   Prob(JB):                        0.178\n",
            "Kurtosis:                       2.878   Cond. No.                         684.\n",
            "==============================================================================\n",
            "\n",
            "Notes:\n",
            "[1] Standard Errors assume that the covariance matrix of the errors is correctly specified.\n"
          ]
        }
      ]
    },
    {
      "cell_type": "markdown",
      "source": [
        "# Plot Residuals of Training Data"
      ],
      "metadata": {
        "id": "1ID0udT0F9uc"
      }
    },
    {
      "cell_type": "code",
      "source": [
        "y_train_pred = regressor.predict(X_train)\n",
        "residuals_train = y_train - y_train_pred\n",
        "plt.scatter(y_train_pred, residuals_train)\n",
        "plt.xlabel('Fitted Values')\n",
        "plt.ylabel('Residuals')\n",
        "plt.title('Residuals vs. Fitted Values of Training Data')\n",
        "plt.axhline(y=0, color='r', linestyle='--')  # Add a horizontal line at y=0\n",
        "plt.show()"
      ],
      "metadata": {
        "colab": {
          "base_uri": "https://localhost:8080/",
          "height": 472
        },
        "id": "kelImrGYGATC",
        "outputId": "d7fea6dd-704f-4612-a6ed-f886969153c1"
      },
      "execution_count": 15,
      "outputs": [
        {
          "output_type": "display_data",
          "data": {
            "text/plain": [
              "<Figure size 640x480 with 1 Axes>"
            ],
            "image/png": "[encoded data removed]"
          },
          "metadata": {}
        }
      ]
    },
    {
      "cell_type": "markdown",
      "source": [
        "# Plot Residuals of Test Data"
      ],
      "metadata": {
        "id": "aYdDDRWbH0Jo"
      }
    },
    {
      "cell_type": "code",
      "source": [
        "residuals_test = y_test - y_pred\n",
        "plt.scatter(y_pred, residuals_test)\n",
        "plt.xlabel('Fitted Values')\n",
        "plt.ylabel('Residuals')\n",
        "plt.title('Residuals vs. Fitted Values of Test Data')\n",
        "plt.axhline(y=0, color='r', linestyle='--')  # Add a horizontal line at y=0\n",
        "plt.show()"
      ],
      "metadata": {
        "colab": {
          "base_uri": "https://localhost:8080/",
          "height": 472
        },
        "id": "tOu6NSygHyhp",
        "outputId": "054b3335-12eb-4bde-dcb9-a45808b76327"
      },
      "execution_count": 17,
      "outputs": [
        {
          "output_type": "display_data",
          "data": {
            "text/plain": [
              "<Figure size 640x480 with 1 Axes>"
            ],
            "image/png": "[encoded data removed]"
          },
          "metadata": {}
        }
      ]
    },
    {
      "cell_type": "markdown",
      "source": [
        "##Further Model Evaluation"
      ],
      "metadata": {
        "id": "5VKXOJdsL7yY"
      }
    },
    {
      "cell_type": "code",
      "source": [
        "from sklearn.metrics import r2_score, mean_absolute_error, mean_squared_error\n",
        "\n",
        "# Add a constant to the test input features\n",
        "X_test = sm.add_constant(X_test)\n",
        "\n",
        "# Predict the test data\n",
        "y_pred = regressor.predict(X_test)\n",
        "\n",
        "# Calculate the performance metrics\n",
        "r2 = r2_score(y_test, y_pred)\n",
        "mae = mean_absolute_error(y_test, y_pred)\n",
        "mse = mean_squared_error(y_test, y_pred)\n",
        "rmse = np.sqrt(mse)\n",
        "\n",
        "print(f'R-squared: {r2:.3f}')\n",
        "print(f'Mean Absolute Error: {mae:.3f}')\n",
        "print(f'Mean Squared Error: {mse:.3f}')\n",
        "print(f'Root Mean Squared Error: {rmse:.3f}')"
      ],
      "metadata": {
        "id": "xcor1X15MBgj"
      },
      "execution_count": null,
      "outputs": []
    }
  ]
}